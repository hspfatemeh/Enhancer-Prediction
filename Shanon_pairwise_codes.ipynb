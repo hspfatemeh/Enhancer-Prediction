{
  "nbformat": 4,
  "nbformat_minor": 0,
  "metadata": {
    "colab": {
      "provenance": []
    },
    "kernelspec": {
      "name": "python3",
      "display_name": "Python 3"
    },
    "language_info": {
      "name": "python"
    }
  },
  "cells": [
    {
      "cell_type": "markdown",
      "source": [
        "**shanon of seqs**\n",
        "\n",
        "https://docs.scipy.org/doc/scipy/reference/generated/scipy.stats.entropy.html#scipy.stats.entropy"
      ],
      "metadata": {
        "id": "g4j84OyFU3ed"
      }
    },
    {
      "cell_type": "code",
      "source": [
        "import collections\n",
        "from scipy.stats import entropy"
      ],
      "metadata": {
        "id": "VVeWZpEfHqLf"
      },
      "execution_count": null,
      "outputs": []
    },
    {
      "cell_type": "code",
      "source": [
        "def estimate_shannon_entropy(dna_sequence):\n",
        "    bases = collections.Counter([tmp_base for tmp_base in dna_sequence])\n",
        "    # define distribution\n",
        "    dist = [x/sum(bases.values()) for x in bases.values()]\n",
        "\n",
        "    # use scipy to calculate entropy\n",
        "    entropy_value = entropy(dist, base=2)\n",
        "    print('entropy:',entropy_value)\n",
        "    return entropy_value"
      ],
      "metadata": {
        "id": "O0g10cwpIEJk"
      },
      "execution_count": null,
      "outputs": []
    },
    {
      "cell_type": "code",
      "source": [
        "import pandas as pd\n",
        "import collections\n",
        "from scipy.stats import entropy\n",
        "\n",
        "# Function to calculate Shannon entropy\n",
        "def estimate_shannon_entropy(dna_sequence):\n",
        "    bases = collections.Counter([tmp_base for tmp_base in dna_sequence])\n",
        "    dist = [x/sum(bases.values()) for x in bases.values()]\n",
        "    entropy_value = entropy(dist, base=2)\n",
        "    print('entropy:', entropy_value)\n",
        "    return entropy_value\n",
        "\n",
        "# Function to process each row and save entropy values\n",
        "def process_rows(series):\n",
        "    entropy_values = []\n",
        "    for value in series:\n",
        "        entropy_val = estimate_shannon_entropy(value)\n",
        "        entropy_values.append(entropy_val)\n",
        "\n",
        "    # Create a DataFrame with the entropy values\n",
        "    entropy_df = pd.DataFrame({'sequence': series, 'entropy': entropy_values})\n",
        "    # Save the DataFrame to a new CSV file\n",
        "    entropy_df.to_csv('entropy_values.csv', index=False)\n",
        "    print('Entropy values saved to entropy_values.csv')\n",
        "\n",
        "# Load the CSV file into a DataFrame\n",
        "df=pd.read_csv('/content/drive/MyDrive/iEnhancer-RD-data/concate_datasets/BenchmarkEnhancerNonEnhancer.csv')\n",
        "\n",
        "# Process the 'sequence' column\n",
        "process_rows(df['sequence'])\n"
      ],
      "metadata": {
        "id": "nGcWelRDIGZ0"
      },
      "execution_count": null,
      "outputs": []
    },
    {
      "cell_type": "markdown",
      "source": [
        " ***bioPython*  pairwise**\n",
        "\n",
        "\n",
        "\n"
      ],
      "metadata": {
        "id": "rspuvs9S9cl7"
      }
    },
    {
      "cell_type": "code",
      "source": [
        "df1='/content/drive/MyDrive/iEnhancer-RD-data/concate_datasets/IndependEnhancer&NonEnhancer.csv'\n",
        "df2='/content/drive/MyDrive/Shanon_pairwise/Feature extract depend shanon.csv'\n",
        "\n",
        "# Output file path\n",
        "output_file = '/content/drive/MyDrive/Shanon_pairwise/pairwise_alignments.txt'"
      ],
      "metadata": {
        "id": "yKlU9nLjJwcV"
      },
      "execution_count": null,
      "outputs": []
    },
    {
      "cell_type": "code",
      "source": [
        "!pip install Bio\n"
      ],
      "metadata": {
        "colab": {
          "base_uri": "https://localhost:8080/"
        },
        "id": "CkaueqWJ_gYx",
        "outputId": "2c08e316-350f-445e-d80d-bda0e716ae1b"
      },
      "execution_count": null,
      "outputs": [
        {
          "output_type": "stream",
          "name": "stdout",
          "text": [
            "Collecting Bio\n",
            "  Downloading bio-1.7.1-py3-none-any.whl.metadata (5.7 kB)\n",
            "Collecting biopython>=1.80 (from Bio)\n",
            "  Downloading biopython-1.84-cp310-cp310-manylinux_2_17_x86_64.manylinux2014_x86_64.whl.metadata (12 kB)\n",
            "Collecting gprofiler-official (from Bio)\n",
            "  Downloading gprofiler_official-1.0.0-py3-none-any.whl.metadata (11 kB)\n",
            "Collecting mygene (from Bio)\n",
            "  Downloading mygene-3.2.2-py2.py3-none-any.whl.metadata (10 kB)\n",
            "Requirement already satisfied: pandas in /usr/local/lib/python3.10/dist-packages (from Bio) (2.2.2)\n",
            "Requirement already satisfied: pooch in /usr/local/lib/python3.10/dist-packages (from Bio) (1.8.2)\n",
            "Requirement already satisfied: requests in /usr/local/lib/python3.10/dist-packages (from Bio) (2.32.3)\n",
            "Requirement already satisfied: tqdm in /usr/local/lib/python3.10/dist-packages (from Bio) (4.67.1)\n",
            "Requirement already satisfied: numpy in /usr/local/lib/python3.10/dist-packages (from biopython>=1.80->Bio) (1.26.4)\n",
            "Collecting biothings-client>=0.2.6 (from mygene->Bio)\n",
            "  Downloading biothings_client-0.4.1-py3-none-any.whl.metadata (10 kB)\n",
            "Requirement already satisfied: python-dateutil>=2.8.2 in /usr/local/lib/python3.10/dist-packages (from pandas->Bio) (2.8.2)\n",
            "Requirement already satisfied: pytz>=2020.1 in /usr/local/lib/python3.10/dist-packages (from pandas->Bio) (2024.2)\n",
            "Requirement already satisfied: tzdata>=2022.7 in /usr/local/lib/python3.10/dist-packages (from pandas->Bio) (2024.2)\n",
            "Requirement already satisfied: platformdirs>=2.5.0 in /usr/local/lib/python3.10/dist-packages (from pooch->Bio) (4.3.6)\n",
            "Requirement already satisfied: packaging>=20.0 in /usr/local/lib/python3.10/dist-packages (from pooch->Bio) (24.2)\n",
            "Requirement already satisfied: charset-normalizer<4,>=2 in /usr/local/lib/python3.10/dist-packages (from requests->Bio) (3.4.0)\n",
            "Requirement already satisfied: idna<4,>=2.5 in /usr/local/lib/python3.10/dist-packages (from requests->Bio) (3.10)\n",
            "Requirement already satisfied: urllib3<3,>=1.21.1 in /usr/local/lib/python3.10/dist-packages (from requests->Bio) (2.2.3)\n",
            "Requirement already satisfied: certifi>=2017.4.17 in /usr/local/lib/python3.10/dist-packages (from requests->Bio) (2024.12.14)\n",
            "Requirement already satisfied: httpx>=0.22.0 in /usr/local/lib/python3.10/dist-packages (from biothings-client>=0.2.6->mygene->Bio) (0.28.1)\n",
            "Requirement already satisfied: six>=1.5 in /usr/local/lib/python3.10/dist-packages (from python-dateutil>=2.8.2->pandas->Bio) (1.17.0)\n",
            "Requirement already satisfied: anyio in /usr/local/lib/python3.10/dist-packages (from httpx>=0.22.0->biothings-client>=0.2.6->mygene->Bio) (3.7.1)\n",
            "Requirement already satisfied: httpcore==1.* in /usr/local/lib/python3.10/dist-packages (from httpx>=0.22.0->biothings-client>=0.2.6->mygene->Bio) (1.0.7)\n",
            "Requirement already satisfied: h11<0.15,>=0.13 in /usr/local/lib/python3.10/dist-packages (from httpcore==1.*->httpx>=0.22.0->biothings-client>=0.2.6->mygene->Bio) (0.14.0)\n",
            "Requirement already satisfied: sniffio>=1.1 in /usr/local/lib/python3.10/dist-packages (from anyio->httpx>=0.22.0->biothings-client>=0.2.6->mygene->Bio) (1.3.1)\n",
            "Requirement already satisfied: exceptiongroup in /usr/local/lib/python3.10/dist-packages (from anyio->httpx>=0.22.0->biothings-client>=0.2.6->mygene->Bio) (1.2.2)\n",
            "Downloading bio-1.7.1-py3-none-any.whl (280 kB)\n",
            "\u001b[2K   \u001b[90m━━━━━━━━━━━━━━━━━━━━━━━━━━━━━━━━━━━━━━━━\u001b[0m \u001b[32m281.0/281.0 kB\u001b[0m \u001b[31m5.0 MB/s\u001b[0m eta \u001b[36m0:00:00\u001b[0m\n",
            "\u001b[?25hDownloading biopython-1.84-cp310-cp310-manylinux_2_17_x86_64.manylinux2014_x86_64.whl (3.2 MB)\n",
            "\u001b[2K   \u001b[90m━━━━━━━━━━━━━━━━━━━━━━━━━━━━━━━━━━━━━━━━\u001b[0m \u001b[32m3.2/3.2 MB\u001b[0m \u001b[31m39.3 MB/s\u001b[0m eta \u001b[36m0:00:00\u001b[0m\n",
            "\u001b[?25hDownloading gprofiler_official-1.0.0-py3-none-any.whl (9.3 kB)\n",
            "Downloading mygene-3.2.2-py2.py3-none-any.whl (5.4 kB)\n",
            "Downloading biothings_client-0.4.1-py3-none-any.whl (46 kB)\n",
            "\u001b[2K   \u001b[90m━━━━━━━━━━━━━━━━━━━━━━━━━━━━━━━━━━━━━━━━\u001b[0m \u001b[32m46.7/46.7 kB\u001b[0m \u001b[31m2.0 MB/s\u001b[0m eta \u001b[36m0:00:00\u001b[0m\n",
            "\u001b[?25hInstalling collected packages: biopython, gprofiler-official, biothings-client, mygene, Bio\n",
            "Successfully installed Bio-1.7.1 biopython-1.84 biothings-client-0.4.1 gprofiler-official-1.0.0 mygene-3.2.2\n"
          ]
        }
      ]
    },
    {
      "cell_type": "code",
      "source": [
        "from Bio import Align\n",
        "aligner = Align.PairwiseAligner()\n",
        "\n",
        "print(aligner)"
      ],
      "metadata": {
        "colab": {
          "base_uri": "https://localhost:8080/"
        },
        "id": "6RpE1k_x_e16",
        "outputId": "3b4de76f-c3de-485d-a512-89275e507a35"
      },
      "execution_count": null,
      "outputs": [
        {
          "output_type": "stream",
          "name": "stdout",
          "text": [
            "Pairwise sequence aligner with parameters\n",
            "  wildcard: None\n",
            "  match_score: 1.000000\n",
            "  mismatch_score: 0.000000\n",
            "  target_internal_open_gap_score: 0.000000\n",
            "  target_internal_extend_gap_score: 0.000000\n",
            "  target_left_open_gap_score: 0.000000\n",
            "  target_left_extend_gap_score: 0.000000\n",
            "  target_right_open_gap_score: 0.000000\n",
            "  target_right_extend_gap_score: 0.000000\n",
            "  query_internal_open_gap_score: 0.000000\n",
            "  query_internal_extend_gap_score: 0.000000\n",
            "  query_left_open_gap_score: 0.000000\n",
            "  query_left_extend_gap_score: 0.000000\n",
            "  query_right_open_gap_score: 0.000000\n",
            "  query_right_extend_gap_score: 0.000000\n",
            "  mode: global\n",
            "\n"
          ]
        }
      ]
    },
    {
      "cell_type": "code",
      "source": [
        "import pandas as pd\n",
        "import psa\n",
        "\n",
        "def load_sequences(file_path):\n",
        "    df = pd.read_csv(file_path)\n",
        "    return df['sequence']\n",
        "\n",
        "def calculate_pairwise_alignments(seq1, seq2):\n",
        "    scores = []\n",
        "    for qseq in seq1:\n",
        "        row_scores = []\n",
        "        for sseq in seq2:\n",
        "            score = aligner.score(qseq, sseq)\n",
        "            row_scores.append(score)\n",
        "        scores.append(row_scores)\n",
        "    return scores\n",
        "\n",
        "\n",
        "def main(file1_path, file2_path, output_file):\n",
        "    sequences1 = load_sequences(file1_path)\n",
        "    sequences2 = load_sequences(file2_path)\n",
        "\n",
        "    scores = calculate_pairwise_alignments(sequences1, sequences2)\n",
        "\n",
        "    # Create a DataFrame for the scores matrix\n",
        "    scores_df = pd.DataFrame(scores, index=[f'seq{i+1}' for i in range(len(sequences1))], columns=[f'seq2_{i+1}' for i in range(len(sequences2))])\n",
        "\n",
        "    # Save the DataFrame to a CSV file\n",
        "    scores_df.to_csv(output_file)\n",
        "    print(f'Scores saved to {output_file}')\n",
        "\n",
        "\n",
        "output_file = '/content/drive/MyDrive/datasetAlign/features/pairwiseAlign/Independ_pairwise_alignments_bioPython.csv'\n",
        "\n",
        "# Run the main function\n",
        "main(df1, df2,output_file)"
      ],
      "metadata": {
        "colab": {
          "base_uri": "https://localhost:8080/"
        },
        "id": "xFUajx2S_ZJP",
        "outputId": "a76c3de3-3a92-4f7e-a04a-c0b6d75e9c7f"
      },
      "execution_count": null,
      "outputs": [
        {
          "output_type": "stream",
          "name": "stdout",
          "text": [
            "Scores saved to /content/drive/MyDrive/datasetAlign/features/pairwiseAlign/Independ_pairwise_alignments_bioPython.csv\n"
          ]
        }
      ]
    },
    {
      "cell_type": "markdown",
      "source": [
        "**pairwise Alignment**\n",
        "\n",
        "https://github.com/aziele/pairwise-sequence-alignment\n"
      ],
      "metadata": {
        "id": "iolZ9esoUuQq"
      }
    },
    {
      "cell_type": "code",
      "source": [
        "!python3 --version"
      ],
      "metadata": {
        "colab": {
          "base_uri": "https://localhost:8080/"
        },
        "id": "JoAPpMg4UuCo",
        "outputId": "f077450a-b713-4ae8-cd94-2c9b016be523"
      },
      "execution_count": null,
      "outputs": [
        {
          "output_type": "stream",
          "name": "stdout",
          "text": [
            "Python 3.10.12\n"
          ]
        }
      ]
    },
    {
      "cell_type": "code",
      "source": [
        "!pip install pairwise-sequence-alignment"
      ],
      "metadata": {
        "colab": {
          "base_uri": "https://localhost:8080/"
        },
        "id": "xQcs51DaVFII",
        "outputId": "38ce699b-2c0b-4c66-e2d0-34c323fbe200"
      },
      "execution_count": null,
      "outputs": [
        {
          "output_type": "stream",
          "name": "stdout",
          "text": [
            "Collecting pairwise-sequence-alignment\n",
            "  Downloading pairwise_sequence_alignment-1.0.1-py3-none-any.whl.metadata (14 kB)\n",
            "Downloading pairwise_sequence_alignment-1.0.1-py3-none-any.whl (20 kB)\n",
            "Installing collected packages: pairwise-sequence-alignment\n",
            "Successfully installed pairwise-sequence-alignment-1.0.1\n"
          ]
        }
      ]
    },
    {
      "cell_type": "code",
      "source": [
        "!apt-get install emboss\n"
      ],
      "metadata": {
        "colab": {
          "base_uri": "https://localhost:8080/"
        },
        "id": "KClyZLbUVnKX",
        "outputId": "4c4887f3-3817-424f-89f2-f428e1208a24"
      },
      "execution_count": null,
      "outputs": [
        {
          "output_type": "stream",
          "name": "stdout",
          "text": [
            "Reading package lists... Done\n",
            "Building dependency tree... Done\n",
            "Reading state information... Done\n",
            "emboss is already the newest version (6.6.0+dfsg-11ubuntu1).\n",
            "0 upgraded, 0 newly installed, 0 to remove and 49 not upgraded.\n"
          ]
        }
      ]
    },
    {
      "cell_type": "code",
      "source": [
        "df1='/content/drive/MyDrive/iEnhancer-RD-data/concate_datasets/BenchmarkEnhancerNonEnhancer.csv'\n",
        "df2='/content/drive/MyDrive/Shanon_pairwise/Feature extract depend shanon.csv'\n",
        "\n",
        "# Output file path\n",
        "output_file = '/content/drive/MyDrive/Shanon_pairwise/pairwise_alignments.txt'\n"
      ],
      "metadata": {
        "id": "Ew-eLK7LWByj"
      },
      "execution_count": null,
      "outputs": []
    },
    {
      "cell_type": "code",
      "source": [
        "import pandas as pd\n",
        "import psa\n",
        "\n",
        "def load_sequences(file_path):\n",
        "    df = pd.read_csv(file_path)\n",
        "    return df['sequence']\n",
        "\n",
        "def calculate_pairwise_alignments(seq1, seq2):\n",
        "    scores = []\n",
        "    for qseq in seq1:\n",
        "        row_scores = []\n",
        "        for sseq in seq2:\n",
        "            aln = psa.needle(moltype='nucl', qseq=qseq, sseq=sseq)\n",
        "            row_scores.append(aln.score)\n",
        "        scores.append(row_scores)\n",
        "    return scores\n",
        "\n",
        "def main(file1_path, file2_path, output_file):\n",
        "    sequences1 = load_sequences(file1_path)\n",
        "    sequences2 = load_sequences(file2_path)\n",
        "\n",
        "    scores = calculate_pairwise_alignments(sequences1, sequences2)\n",
        "\n",
        "    # Create a DataFrame for the scores matrix\n",
        "    scores_df = pd.DataFrame(scores, index=[f'seq1_{i}' for i in range(len(sequences1))], columns=[f'seq2_{i}' for i in range(len(sequences2))])\n",
        "\n",
        "    # Save the DataFrame to a CSV file\n",
        "    scores_df.to_csv(output_file)\n",
        "    print(f'Scores saved to {output_file}')\n",
        "\n",
        "\n",
        "output_file = '/content/drive/MyDrive/Shanon_pairwise/pairwise_alignments.csv'\n",
        "\n",
        "# Run the main function\n",
        "main(df1, df2,output_file)"
      ],
      "metadata": {
        "colab": {
          "base_uri": "https://localhost:8080/"
        },
        "id": "LK1wHMzucC2p",
        "outputId": "9e50b7ea-29d3-4498-a455-d5afcb6db64e"
      },
      "execution_count": null,
      "outputs": [
        {
          "output_type": "stream",
          "name": "stdout",
          "text": [
            "Scores saved to /content/drive/MyDrive/Shanon_pairwise/pairwise_alignments.csv\n"
          ]
        }
      ]
    },
    {
      "cell_type": "code",
      "source": [],
      "metadata": {
        "id": "M04Ubu5tg5Vr"
      },
      "execution_count": null,
      "outputs": []
    }
  ]
}